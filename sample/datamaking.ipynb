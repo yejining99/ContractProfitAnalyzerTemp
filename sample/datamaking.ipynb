{
 "cells": [
  {
   "cell_type": "code",
   "execution_count": 1,
   "metadata": {},
   "outputs": [
    {
     "name": "stdout",
     "output_type": "stream",
     "text": [
      "JS 파일 변환 완료!\n"
     ]
    }
   ],
   "source": [
    "import json\n",
    "\n",
    "# 경로를 올바르게 수정\n",
    "input_file = r\"imcompatible_items.txt\"\n",
    "output_file = r\"C:\\Users\\124205932\\ContractProfitAnalyzerTemp\\src\\data\\incompatible-items.js\"\n",
    "\n",
    "# txt 파일 읽기\n",
    "with open(input_file, \"r\", encoding=\"utf-8\") as file:\n",
    "    content = file.read()\n",
    "\n",
    "# JSON 파싱\n",
    "data = json.loads(content)\n",
    "\n",
    "# js 파일 작성\n",
    "with open(output_file, \"w\", encoding=\"utf-8\") as file:\n",
    "    file.write(\"export const INCOMPATIBLE_ITEMS = {\\n\")\n",
    "    for key, pairs in data.items():\n",
    "        file.write(f\"    '{key}': [\\n\")\n",
    "        for pair in pairs:\n",
    "            file.write(f\"      {pair},\\n\")\n",
    "        file.write(\"    ],\\n\")\n",
    "    file.write(\"};\\n\")\n",
    "\n",
    "print(\"JS 파일 변환 완료!\")\n"
   ]
  },
  {
   "cell_type": "code",
   "execution_count": 4,
   "metadata": {},
   "outputs": [
    {
     "name": "stdout",
     "output_type": "stream",
     "text": [
      "JS 파일 작성 완료!\n"
     ]
    }
   ],
   "source": [
    "# 경로 설정\n",
    "input_file = r\"sample_contracts.txt\"\n",
    "output_file = r\"C:\\Users\\124205932\\ContractProfitAnalyzerTemp\\src\\data\\sample-contracts.js\"\n",
    "\n",
    "# txt 파일 읽기\n",
    "with open(input_file, \"r\", encoding=\"utf-8\") as file:\n",
    "    content = file.read()\n",
    "\n",
    "\n",
    "data = json.loads(content)\n",
    "\n",
    "# JS 파일 작성\n",
    "with open(output_file, \"w\", encoding=\"utf-8\") as file:\n",
    "    file.write(\"// SAMPLE_CONTRACTS 데이터\\n\")\n",
    "    file.write(\"export const SAMPLE_CONTRACTS = \")\n",
    "    json.dump(data, file, indent=4, ensure_ascii=False)\n",
    "    file.write(\";\\n\")\n",
    "\n",
    "print(\"JS 파일 작성 완료!\")"
   ]
  },
  {
   "cell_type": "code",
   "execution_count": 3,
   "metadata": {},
   "outputs": [
    {
     "name": "stdout",
     "output_type": "stream",
     "text": [
      "JS 파일 변환 완료!\n"
     ]
    }
   ],
   "source": [
    "# 경로를 올바르게 수정\n",
    "input_file = r\"set_items.txt\"\n",
    "output_file = r\"C:\\Users\\124205932\\ContractProfitAnalyzerTemp\\src\\data\\set-items.js\"\n",
    "\n",
    "# txt 파일 읽기\n",
    "with open(input_file, \"r\", encoding=\"utf-8\") as file:\n",
    "    content = file.read()\n",
    "\n",
    "# JSON 파싱\n",
    "data = json.loads(content)\n",
    "\n",
    "# js 파일 작성\n",
    "with open(output_file, \"w\", encoding=\"utf-8\") as file:\n",
    "    file.write(\"export const SET_ITEMS = {\\n\")\n",
    "    for key, pairs in data.items():\n",
    "        file.write(f\"    '{key}': [\\n\")\n",
    "        for pair in pairs:\n",
    "            file.write(f\"      {pair},\\n\")\n",
    "        file.write(\"    ],\\n\")\n",
    "    file.write(\"};\\n\")\n",
    "\n",
    "print(\"JS 파일 변환 완료!\")"
   ]
  },
  {
   "cell_type": "code",
   "execution_count": null,
   "metadata": {},
   "outputs": [],
   "source": []
  },
  {
   "cell_type": "code",
   "execution_count": null,
   "metadata": {},
   "outputs": [],
   "source": []
  }
 ],
 "metadata": {
  "kernelspec": {
   "display_name": "Python 3",
   "language": "python",
   "name": "python3"
  },
  "language_info": {
   "codemirror_mode": {
    "name": "ipython",
    "version": 3
   },
   "file_extension": ".py",
   "mimetype": "text/x-python",
   "name": "python",
   "nbconvert_exporter": "python",
   "pygments_lexer": "ipython3",
   "version": "3.13.0"
  }
 },
 "nbformat": 4,
 "nbformat_minor": 2
}
