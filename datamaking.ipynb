{
 "cells": [
  {
   "cell_type": "code",
   "execution_count": 14,
   "metadata": {},
   "outputs": [
    {
     "name": "stdout",
     "output_type": "stream",
     "text": [
      "JS 파일 변환 완료!\n"
     ]
    }
   ],
   "source": [
    "import json\n",
    "\n",
    "# 경로를 올바르게 수정\n",
    "input_file = r\"sample\\imcompatible_items.txt\"\n",
    "output_file = r\"sample\\imcompatible-items.js\"\n",
    "\n",
    "# txt 파일 읽기\n",
    "with open(input_file, \"r\", encoding=\"utf-8\") as file:\n",
    "    content = file.read()\n",
    "\n",
    "# JSON 파싱\n",
    "data = json.loads(content)\n",
    "\n",
    "# js 파일 작성\n",
    "with open(output_file, \"w\", encoding=\"utf-8\") as file:\n",
    "    file.write(\"export const INCOMPATIBLE_ITEMS = {\\n\")\n",
    "    for key, pairs in data.items():\n",
    "        file.write(f\"    '{key}': [\\n\")\n",
    "        for pair in pairs:\n",
    "            file.write(f\"      {pair},\\n\")\n",
    "        file.write(\"    ],\\n\")\n",
    "    file.write(\"};\\n\")\n",
    "\n",
    "print(\"JS 파일 변환 완료!\")\n"
   ]
  },
  {
   "cell_type": "code",
   "execution_count": null,
   "metadata": {},
   "outputs": [],
   "source": [
    "# 경로 설정\n",
    "input_file = r\"sample\\sample_contracts.txt\"\n",
    "output_file = r\"sample\\sample-contracts.js\"\n",
    "\n",
    "# txt 파일 읽기\n",
    "with open(input_file, \"r\", encoding=\"utf-8\") as file:\n",
    "    content = file.read()\n",
    "\n",
    "\n",
    "data = json.loads(content)\n",
    "\n",
    "# JS 파일 작성\n",
    "with open(output_file, \"w\", encoding=\"utf-8\") as file:\n",
    "    file.write(\"// SAMPLE_CONTRACTS 데이터\\n\")\n",
    "    file.write(\"export const SAMPLE_CONTRACTS = \")\n",
    "    json.dump(data, file, indent=4, ensure_ascii=False)\n",
    "    file.write(\";\\n\")\n",
    "\n",
    "print(\"JS 파일 작성 완료!\")"
   ]
  },
  {
   "cell_type": "code",
   "execution_count": null,
   "metadata": {},
   "outputs": [],
   "source": [
    "# 경로를 올바르게 수정\n",
    "input_file = r\"sample\\set_items.txt\"\n",
    "output_file = r\"sample\\set-items.js\"\n",
    "\n",
    "# txt 파일 읽기\n",
    "with open(input_file, \"r\", encoding=\"utf-8\") as file:\n",
    "    content = file.read()\n",
    "    \n",
    "content = content.replace(\"'\", '\"') \n",
    "\n",
    "# JSON 파싱\n",
    "data = json.loads(content)\n",
    "\n",
    "# js 파일 작성\n",
    "with open(output_file, \"w\", encoding=\"utf-8\") as file:\n",
    "    file.write(\"export const SET_ITEMS = \\n\")\n",
    "    for key, pairs in data.items():\n",
    "        file.write(f\"    '{key}': [\\n\")\n",
    "        for pair in pairs:\n",
    "            file.write(f\"      {pair},\\n\")\n",
    "        file.write(\"    ],\\n\")\n",
    "    file.write(\";\\n\")\n",
    "\n",
    "print(\"JS 파일 변환 완료!\")"
   ]
  },
  {
   "cell_type": "code",
   "execution_count": null,
   "metadata": {},
   "outputs": [],
   "source": []
  },
  {
   "cell_type": "code",
   "execution_count": 49,
   "metadata": {},
   "outputs": [
    {
     "name": "stdout",
     "output_type": "stream",
     "text": [
      "JS 파일 작성 완료!\n"
     ]
    }
   ],
   "source": [
    "import json\n",
    "import re\n",
    "\n",
    "# 경로 설정\n",
    "input_file = r\"sample\\sample_contracts.txt\"\n",
    "output_file = r\"sample\\sample_contracts.js\"\n",
    "\n",
    "# txt 파일 읽기\n",
    "with open(input_file, \"r\", encoding=\"utf-8\") as file:\n",
    "    content = file.read()\n",
    "\n",
    "# 1. 단일 따옴표를 이중 따옴표로 변환\n",
    "content = content.replace(\"'\", '\"')\n",
    "\n",
    "# 2. 주석 제거\n",
    "content = re.sub(r'//.*', '', content)  # 한 줄 주석 제거\n",
    "content = re.sub(r'/\\*.*?\\*/', '', content, flags=re.DOTALL)  # 블록 주석 제거\n",
    "\n",
    "# 3. 키로 사용되는 ~~.0 값만 문자열로 변경\n",
    "content = re.sub(r'(?<=\\{|\\s|,)(\\d+\\.0)(?=\\s*:)', r'\"\\1\"', content)\n",
    "\n",
    "# JSON 파싱\n",
    "try:\n",
    "    data = json.loads(content)\n",
    "except json.JSONDecodeError as e:\n",
    "    print(\"JSON 파싱 중 에러 발생:\", e)\n",
    "    with open(\"debug.json\", \"w\", encoding=\"utf-8\") as debug_file:\n",
    "        debug_file.write(content)  # 변환된 데이터를 저장\n",
    "    raise\n",
    "\n",
    "# 원하는 값을 수정하는 함수 정의\n",
    "def update_data(data):\n",
    "    for key, contract in data.items():\n",
    "        # availableItems 처리\n",
    "        if \"availableItems\" in contract:\n",
    "            for item in contract[\"availableItems\"]:\n",
    "                # availableQuantities 값들을 int로 변환\n",
    "                if \"availableQuantities\" in item:\n",
    "                    item[\"availableQuantities\"] = [int(float(q)) for q in item[\"availableQuantities\"]]\n",
    "\n",
    "                # recommendedQuantity 값을 int로 변환\n",
    "                if \"recommendedQuantity\" in item:\n",
    "                    item[\"recommendedQuantity\"] = int(float(item[\"recommendedQuantity\"]))\n",
    "\n",
    "                # priceAndProfitByQuantity의 키를 int로 변환\n",
    "                if \"priceAndProfitByQuantity\" in item:\n",
    "                    item[\"priceAndProfitByQuantity\"] = {\n",
    "                        int(float(k)): v for k, v in item[\"priceAndProfitByQuantity\"].items()\n",
    "                    }\n",
    "    return data\n",
    "\n",
    "# 데이터 수정\n",
    "data = update_data(data)\n",
    "\n",
    "# JS 파일 작성\n",
    "with open(output_file, \"w\", encoding=\"utf-8\") as file:\n",
    "    file.write(\"// SAMPLE_CONTRACTS 데이터\\n\")\n",
    "    file.write(\"export const SAMPLE_CONTRACTS = \")\n",
    "    json.dump(data, file, indent=4, ensure_ascii=False)\n",
    "    file.write(\";\\n\")\n",
    "\n",
    "print(\"JS 파일 작성 완료!\")\n"
   ]
  },
  {
   "cell_type": "code",
   "execution_count": 19,
   "metadata": {},
   "outputs": [
    {
     "name": "stdout",
     "output_type": "stream",
     "text": [
      "JS 파일 변환 완료!\n"
     ]
    }
   ],
   "source": [
    "# 경로를 올바르게 수정\n",
    "input_file = r\"sample\\set_items.txt\"\n",
    "output_file = r\"sample\\set_items.js\"\n",
    "\n",
    "# txt 파일 읽기\n",
    "with open(input_file, \"r\", encoding=\"utf-8\") as file:\n",
    "    content = file.read()\n",
    "    \n",
    "content = content.replace(\"'\", '\"') \n",
    "\n",
    "# JSON 파싱\n",
    "data = json.loads(content)\n",
    "\n",
    "# js 파일 작성\n",
    "with open(output_file, \"w\", encoding=\"utf-8\") as file:\n",
    "    file.write(\"export const INCOMPATIBLE_ITEMS = {\\n\")\n",
    "    for key, pairs in data.items():\n",
    "        file.write(f\"    '{key}': [\\n\")\n",
    "        for pair in pairs:\n",
    "            file.write(f\"      {pair},\\n\")\n",
    "        file.write(\"    ],\\n\")\n",
    "    file.write(\"};\\n\")\n",
    "\n",
    "print(\"JS 파일 변환 완료!\")"
   ]
  },
  {
   "cell_type": "code",
   "execution_count": null,
   "metadata": {},
   "outputs": [],
   "source": []
  }
 ],
 "metadata": {
  "kernelspec": {
   "display_name": "Python 3",
   "language": "python",
   "name": "python3"
  },
  "language_info": {
   "codemirror_mode": {
    "name": "ipython",
    "version": 3
   },
   "file_extension": ".py",
   "mimetype": "text/x-python",
   "name": "python",
   "nbconvert_exporter": "python",
   "pygments_lexer": "ipython3",
   "version": "3.13.0"
  }
 },
 "nbformat": 4,
 "nbformat_minor": 2
}
